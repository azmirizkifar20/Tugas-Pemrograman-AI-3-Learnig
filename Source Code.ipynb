{
  "nbformat": 4,
  "nbformat_minor": 0,
  "metadata": {
    "colab": {
      "name": "Tugas Pemrograman 3 - Classification Naive Bayes.ipynb",
      "provenance": [],
      "collapsed_sections": []
    },
    "kernelspec": {
      "name": "python3",
      "display_name": "Python 3"
    },
    "language_info": {
      "name": "python"
    }
  },
  "cells": [
    {
      "cell_type": "code",
      "execution_count": 30,
      "metadata": {
        "colab": {
          "base_uri": "https://localhost:8080/"
        },
        "id": "8eJqvdTzt3e4",
        "outputId": "7d2928c9-eeab-4767-d1d1-3403e77985bf"
      },
      "outputs": [
        {
          "output_type": "stream",
          "name": "stdout",
          "text": [
            "Downloading...\n",
            "From: https://drive.google.com/uc?id=187zDetHTNzpwXFC6zfNtKF-GLEjUZtQJ\n",
            "To: /content/traintest.xlsx\n",
            "\r  0% 0.00/17.7k [00:00<?, ?B/s]\r100% 17.7k/17.7k [00:00<00:00, 24.8MB/s]\n"
          ]
        }
      ],
      "source": [
        "# Melakukan download dataset pada google drive \n",
        "# https://docs.google.com/spreadsheets/d/187zDetHTNzpwXFC6zfNtKF-GLEjUZtQJ/edit?usp=sharing&ouid=109330686360258100205&rtpof=true&sd=true\n",
        "\n",
        "!gdown 187zDetHTNzpwXFC6zfNtKF-GLEjUZtQJ"
      ]
    },
    {
      "cell_type": "code",
      "source": [
        "# Import Library pandas\n",
        "import pandas as pd\n",
        "\n",
        "# Proses pembacaan data latih/uji\n",
        "dataFrameTrain = pd.read_excel('traintest.xlsx')\n",
        "dataFrameTest = pd.read_excel('traintest.xlsx', sheet_name='test')\n",
        "dataFrameTrain.head()"
      ],
      "metadata": {
        "colab": {
          "base_uri": "https://localhost:8080/",
          "height": 206
        },
        "id": "zZj1rZjcv8oN",
        "outputId": "9ae1e33c-b342-4de2-984b-5b95c1f3ae4b"
      },
      "execution_count": 31,
      "outputs": [
        {
          "output_type": "execute_result",
          "data": {
            "text/plain": [
              "   id  x1  x2  x3  y\n",
              "0   1  60  64   0  1\n",
              "1   2  54  60  11  0\n",
              "2   3  65  62  22  0\n",
              "3   4  34  60   0  1\n",
              "4   5  38  69  21  0"
            ],
            "text/html": [
              "\n",
              "  <div id=\"df-0d3abff0-3c93-48ee-ba17-24a0bbf5a9ed\">\n",
              "    <div class=\"colab-df-container\">\n",
              "      <div>\n",
              "<style scoped>\n",
              "    .dataframe tbody tr th:only-of-type {\n",
              "        vertical-align: middle;\n",
              "    }\n",
              "\n",
              "    .dataframe tbody tr th {\n",
              "        vertical-align: top;\n",
              "    }\n",
              "\n",
              "    .dataframe thead th {\n",
              "        text-align: right;\n",
              "    }\n",
              "</style>\n",
              "<table border=\"1\" class=\"dataframe\">\n",
              "  <thead>\n",
              "    <tr style=\"text-align: right;\">\n",
              "      <th></th>\n",
              "      <th>id</th>\n",
              "      <th>x1</th>\n",
              "      <th>x2</th>\n",
              "      <th>x3</th>\n",
              "      <th>y</th>\n",
              "    </tr>\n",
              "  </thead>\n",
              "  <tbody>\n",
              "    <tr>\n",
              "      <th>0</th>\n",
              "      <td>1</td>\n",
              "      <td>60</td>\n",
              "      <td>64</td>\n",
              "      <td>0</td>\n",
              "      <td>1</td>\n",
              "    </tr>\n",
              "    <tr>\n",
              "      <th>1</th>\n",
              "      <td>2</td>\n",
              "      <td>54</td>\n",
              "      <td>60</td>\n",
              "      <td>11</td>\n",
              "      <td>0</td>\n",
              "    </tr>\n",
              "    <tr>\n",
              "      <th>2</th>\n",
              "      <td>3</td>\n",
              "      <td>65</td>\n",
              "      <td>62</td>\n",
              "      <td>22</td>\n",
              "      <td>0</td>\n",
              "    </tr>\n",
              "    <tr>\n",
              "      <th>3</th>\n",
              "      <td>4</td>\n",
              "      <td>34</td>\n",
              "      <td>60</td>\n",
              "      <td>0</td>\n",
              "      <td>1</td>\n",
              "    </tr>\n",
              "    <tr>\n",
              "      <th>4</th>\n",
              "      <td>5</td>\n",
              "      <td>38</td>\n",
              "      <td>69</td>\n",
              "      <td>21</td>\n",
              "      <td>0</td>\n",
              "    </tr>\n",
              "  </tbody>\n",
              "</table>\n",
              "</div>\n",
              "      <button class=\"colab-df-convert\" onclick=\"convertToInteractive('df-0d3abff0-3c93-48ee-ba17-24a0bbf5a9ed')\"\n",
              "              title=\"Convert this dataframe to an interactive table.\"\n",
              "              style=\"display:none;\">\n",
              "        \n",
              "  <svg xmlns=\"http://www.w3.org/2000/svg\" height=\"24px\"viewBox=\"0 0 24 24\"\n",
              "       width=\"24px\">\n",
              "    <path d=\"M0 0h24v24H0V0z\" fill=\"none\"/>\n",
              "    <path d=\"M18.56 5.44l.94 2.06.94-2.06 2.06-.94-2.06-.94-.94-2.06-.94 2.06-2.06.94zm-11 1L8.5 8.5l.94-2.06 2.06-.94-2.06-.94L8.5 2.5l-.94 2.06-2.06.94zm10 10l.94 2.06.94-2.06 2.06-.94-2.06-.94-.94-2.06-.94 2.06-2.06.94z\"/><path d=\"M17.41 7.96l-1.37-1.37c-.4-.4-.92-.59-1.43-.59-.52 0-1.04.2-1.43.59L10.3 9.45l-7.72 7.72c-.78.78-.78 2.05 0 2.83L4 21.41c.39.39.9.59 1.41.59.51 0 1.02-.2 1.41-.59l7.78-7.78 2.81-2.81c.8-.78.8-2.07 0-2.86zM5.41 20L4 18.59l7.72-7.72 1.47 1.35L5.41 20z\"/>\n",
              "  </svg>\n",
              "      </button>\n",
              "      \n",
              "  <style>\n",
              "    .colab-df-container {\n",
              "      display:flex;\n",
              "      flex-wrap:wrap;\n",
              "      gap: 12px;\n",
              "    }\n",
              "\n",
              "    .colab-df-convert {\n",
              "      background-color: #E8F0FE;\n",
              "      border: none;\n",
              "      border-radius: 50%;\n",
              "      cursor: pointer;\n",
              "      display: none;\n",
              "      fill: #1967D2;\n",
              "      height: 32px;\n",
              "      padding: 0 0 0 0;\n",
              "      width: 32px;\n",
              "    }\n",
              "\n",
              "    .colab-df-convert:hover {\n",
              "      background-color: #E2EBFA;\n",
              "      box-shadow: 0px 1px 2px rgba(60, 64, 67, 0.3), 0px 1px 3px 1px rgba(60, 64, 67, 0.15);\n",
              "      fill: #174EA6;\n",
              "    }\n",
              "\n",
              "    [theme=dark] .colab-df-convert {\n",
              "      background-color: #3B4455;\n",
              "      fill: #D2E3FC;\n",
              "    }\n",
              "\n",
              "    [theme=dark] .colab-df-convert:hover {\n",
              "      background-color: #434B5C;\n",
              "      box-shadow: 0px 1px 3px 1px rgba(0, 0, 0, 0.15);\n",
              "      filter: drop-shadow(0px 1px 2px rgba(0, 0, 0, 0.3));\n",
              "      fill: #FFFFFF;\n",
              "    }\n",
              "  </style>\n",
              "\n",
              "      <script>\n",
              "        const buttonEl =\n",
              "          document.querySelector('#df-0d3abff0-3c93-48ee-ba17-24a0bbf5a9ed button.colab-df-convert');\n",
              "        buttonEl.style.display =\n",
              "          google.colab.kernel.accessAllowed ? 'block' : 'none';\n",
              "\n",
              "        async function convertToInteractive(key) {\n",
              "          const element = document.querySelector('#df-0d3abff0-3c93-48ee-ba17-24a0bbf5a9ed');\n",
              "          const dataTable =\n",
              "            await google.colab.kernel.invokeFunction('convertToInteractive',\n",
              "                                                     [key], {});\n",
              "          if (!dataTable) return;\n",
              "\n",
              "          const docLinkHtml = 'Like what you see? Visit the ' +\n",
              "            '<a target=\"_blank\" href=https://colab.research.google.com/notebooks/data_table.ipynb>data table notebook</a>'\n",
              "            + ' to learn more about interactive tables.';\n",
              "          element.innerHTML = '';\n",
              "          dataTable['output_type'] = 'display_data';\n",
              "          await google.colab.output.renderOutput(dataTable, element);\n",
              "          const docLink = document.createElement('div');\n",
              "          docLink.innerHTML = docLinkHtml;\n",
              "          element.appendChild(docLink);\n",
              "        }\n",
              "      </script>\n",
              "    </div>\n",
              "  </div>\n",
              "  "
            ]
          },
          "metadata": {},
          "execution_count": 31
        }
      ]
    },
    {
      "cell_type": "code",
      "source": [
        "dataFrameTrain.info()"
      ],
      "metadata": {
        "colab": {
          "base_uri": "https://localhost:8080/"
        },
        "id": "74Xyeqw7wXM3",
        "outputId": "616a007d-86f9-420a-ec17-d934410a109e"
      },
      "execution_count": 32,
      "outputs": [
        {
          "output_type": "stream",
          "name": "stdout",
          "text": [
            "<class 'pandas.core.frame.DataFrame'>\n",
            "RangeIndex: 296 entries, 0 to 295\n",
            "Data columns (total 5 columns):\n",
            " #   Column  Non-Null Count  Dtype\n",
            "---  ------  --------------  -----\n",
            " 0   id      296 non-null    int64\n",
            " 1   x1      296 non-null    int64\n",
            " 2   x2      296 non-null    int64\n",
            " 3   x3      296 non-null    int64\n",
            " 4   y       296 non-null    int64\n",
            "dtypes: int64(5)\n",
            "memory usage: 11.7 KB\n"
          ]
        }
      ]
    },
    {
      "cell_type": "code",
      "source": [
        "# describing data to get mean and std\n",
        "# output data 0 or 1\n",
        "def att_desc(output_data):\n",
        "    return dataFrameTrain[dataFrameTrain['y'] == output_data].describe()"
      ],
      "metadata": {
        "id": "buL--0F1iJQH"
      },
      "execution_count": 6,
      "outputs": []
    },
    {
      "cell_type": "code",
      "source": [
        "# get mean and std for worthy or acceptable\n",
        "x1meanWorthy = att_desc(1)['x1']['mean']\n",
        "x1stdWorthy = att_desc(1)['x1']['std']\n",
        "\n",
        "x2meanWorthy = att_desc(1)['x2']['mean']\n",
        "x2stdWorthy = att_desc(1)['x2']['std']\n",
        "\n",
        "x3meanWorthy = att_desc(1)['x3']['mean']\n",
        "x3stdWorthy = att_desc(1)['x3']['std']\n",
        "\n",
        "print(x1meanWorthy, x2meanWorthy, x3meanWorthy)\n",
        "print(x1stdWorthy, x2stdWorthy, x3stdWorthy)"
      ],
      "metadata": {
        "colab": {
          "base_uri": "https://localhost:8080/"
        },
        "id": "seogsF3BwaWB",
        "outputId": "a1e9ef00-c944-443d-d7a8-333fab6dc347"
      },
      "execution_count": 7,
      "outputs": [
        {
          "output_type": "stream",
          "name": "stdout",
          "text": [
            "51.93577981651376 62.92660550458716 2.8394495412844036\n",
            "11.110484299554662 3.2220622586310936 5.953499042384453\n"
          ]
        }
      ]
    },
    {
      "cell_type": "code",
      "source": [
        "# get mean and std for unworthy or unacceptable\n",
        "x1meanUnWorthy = att_desc(0)['x1']['mean']\n",
        "x1stdUnWorthy = att_desc(0)['x1']['std']\n",
        "\n",
        "x2meanUnWorthy = att_desc(0)['x2']['mean']\n",
        "x2stdUnWorthy = att_desc(0)['x2']['std']\n",
        "\n",
        "x3meanUnWorthy = att_desc(0)['x3']['mean']\n",
        "x3stdUnWorthy = att_desc(0)['x3']['std']\n",
        "\n",
        "print(x1meanUnWorthy, x2meanUnWorthy, x3meanUnWorthy)\n",
        "print(x1stdUnWorthy, x2stdUnWorthy, x3stdUnWorthy)"
      ],
      "metadata": {
        "colab": {
          "base_uri": "https://localhost:8080/"
        },
        "id": "GaE_cZ2x2FQj",
        "outputId": "85bab358-99cf-4afc-c655-95a745d5e342"
      },
      "execution_count": 8,
      "outputs": [
        {
          "output_type": "stream",
          "name": "stdout",
          "text": [
            "53.93589743589744 62.756410256410255 7.666666666666667\n",
            "10.198471675149396 3.2839076241650416 9.296929623961903\n"
          ]
        }
      ]
    },
    {
      "cell_type": "code",
      "source": [
        "lenghtOfAcceptableData = len(dataFrameTrain[dataFrameTrain['y'] == 1.0])\n",
        "lenghtOfUnAcceptableData = len(dataFrameTrain[dataFrameTrain['y'] == 0.0])\n",
        "\n",
        "lenghtOfAllAdata = len(dataFrameTrain)\n",
        "\n",
        "print(\"Acceptable data = {} Unacceptable data = {} All data = {}\".format(lenghtOfAcceptableData, lenghtOfUnAcceptableData, lenghtOfAllAdata))"
      ],
      "metadata": {
        "colab": {
          "base_uri": "https://localhost:8080/"
        },
        "id": "MM8ARsgi5jV8",
        "outputId": "507909e9-b4cf-49dd-d5fc-98a705c74724"
      },
      "execution_count": 9,
      "outputs": [
        {
          "output_type": "stream",
          "name": "stdout",
          "text": [
            "Acceptable data = 218 Unacceptable data = 78 All data = 296\n"
          ]
        }
      ]
    },
    {
      "cell_type": "code",
      "source": [
        "import math \n",
        "\n",
        "# calculate probability using formula\n",
        "def calc_probability(x, mean, std):\n",
        "  exponent = math.exp(-((x-mean)**2 / (2*std**2)))\n",
        "  \n",
        "  return (1 / (math.sqrt(2 * math.pi) * std)) * exponent\n",
        "\n",
        "# decide classification\n",
        "def decide_classification(x1Test, x2Test, x3Test):\n",
        "  probWorthy1 = calc_probability(x1Test, x1meanWorthy, x1stdWorthy)\n",
        "  probWorthy2 = calc_probability(x2Test, x2meanWorthy, x2stdWorthy)\n",
        "  probWorthy3 = calc_probability(x3Test, x3meanWorthy, x3stdWorthy)\n",
        "  pWorthy = (lenghtOfAcceptableData/lenghtOfAllAdata) * probWorthy1 * probWorthy2 * probWorthy3\n",
        "\n",
        "  probUnWorthy1 = calc_probability(x1Test, x1meanUnWorthy, x1stdUnWorthy)\n",
        "  probUnWorthy2 = calc_probability(x2Test, x2meanUnWorthy, x2stdUnWorthy)\n",
        "  probUnWorthy3 = calc_probability(x3Test, x3meanUnWorthy, x3stdUnWorthy)\n",
        "  pUnWorthy = (lenghtOfAcceptableData/lenghtOfAllAdata) * probUnWorthy1 * probUnWorthy2 * probUnWorthy3\n",
        "\n",
        "  print('probability for y = 1 -> {}'.format(pWorthy))\n",
        "  print('probability for y = 0 -> {}'.format(pUnWorthy))\n",
        "\n",
        "  acceptable = 0\n",
        "  if(pWorthy > pUnWorthy):\n",
        "    # test data acceptable\n",
        "    acceptable = 1\n",
        "  else:\n",
        "    # test data unacceptable\n",
        "    acceptable = 0\n",
        "  return acceptable"
      ],
      "metadata": {
        "id": "Eg2JK1Pe-oqY"
      },
      "execution_count": 10,
      "outputs": []
    },
    {
      "cell_type": "markdown",
      "source": [
        "### **Validasi model dengan data train (actual data)**\n",
        "![image.png](data:image/png;base64,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)"
      ],
      "metadata": {
        "id": "yFiG1D7dyNBn"
      }
    },
    {
      "cell_type": "code",
      "source": [
        "# Contoh pengujian model dari data train dengan y = 1\n",
        "print('====== Contoh pengujian model dari data train dengan y = 1 ======')\n",
        "example1 = decide_classification(60, 64, 0)\n",
        "print('x1 x2 x3 -> y')\n",
        "print('60 64 0  -> {}\\n'.format(example1))\n",
        "\n",
        "# Contoh pengujian model dari data train dengan y = 0\n",
        "print('====== Contoh pengujian model dari data train dengan y = 0 ======')\n",
        "example2 = decide_classification(54, 60, 11)\n",
        "print('x1 x2 x3 -> y')\n",
        "print('54 60 11 -> {}'.format(example2))"
      ],
      "metadata": {
        "colab": {
          "base_uri": "https://localhost:8080/"
        },
        "id": "fllpUUC9v8Sm",
        "outputId": "79936382-85d2-4601-8952-49bef7bd0616"
      },
      "execution_count": 39,
      "outputs": [
        {
          "output_type": "stream",
          "name": "stdout",
          "text": [
            "====== Contoh pengujian model dari data train dengan y = 1 ======\n",
            "probability for y = 1 -> 0.00014235259904175774\n",
            "probability for y = 0 -> 8.33768749286531e-05\n",
            "x1 x2 x3 -> y\n",
            "60 64 0  -> 1\n",
            "\n",
            "====== Contoh pengujian model dari data train dengan y = 0 ======\n",
            "probability for y = 1 -> 5.579842149789035e-05\n",
            "probability for y = 0 -> 9.901868657641887e-05\n",
            "x1 x2 x3 -> y\n",
            "54 60 11 -> 0\n"
          ]
        }
      ]
    },
    {
      "cell_type": "code",
      "source": [
        "# MAIN PROGRAM\n",
        "dataFrameTest.head()\n",
        "dataFrameTest.reset_index()\n",
        "id = []\n",
        "x1 = []\n",
        "x2 = []\n",
        "x3 = []\n",
        "y = []\n",
        "\n",
        "print('Hasil prediksi :')\n",
        "for index, row in dataFrameTest.iterrows():\n",
        "  output = decide_classification(row['x1'], row['x2'], row['x3'])\n",
        "\n",
        "  id.append(row['id'])\n",
        "  x1.append(row['x1'])\n",
        "  x2.append(row['x2'])\n",
        "  x3.append(row['x3'])\n",
        "  y.append(output)\n",
        "\n",
        "  print(\"{} {} {}  -> {}\".format(row['x1'], row['x2'], row['x3'], output))\n",
        "  print()\n",
        "\n",
        "resultData = {'id': id, 'x1': x1, 'x2': x2, 'x3': x3, 'y': y}\n",
        "resultTable = pd.DataFrame(resultData)\n",
        "resultTable.to_excel('output_test.xlsx')"
      ],
      "metadata": {
        "colab": {
          "base_uri": "https://localhost:8080/"
        },
        "id": "XhRWfykpYTTz",
        "outputId": "97ddab71-b49b-464d-d466-3f8bb87f2975"
      },
      "execution_count": 38,
      "outputs": [
        {
          "output_type": "stream",
          "name": "stdout",
          "text": [
            "Hasil prediksi :\n",
            "probability for y = 1 -> 7.481434681154436e-05\n",
            "probability for y = 0 -> 3.648713421898173e-05\n",
            "43 59 2  -> 1\n",
            "\n",
            "probability for y = 1 -> 4.9556264176595006e-05\n",
            "probability for y = 0 -> 2.889284011041653e-05\n",
            "67 66 0  -> 1\n",
            "\n",
            "probability for y = 1 -> 0.00012510034528011692\n",
            "probability for y = 0 -> 8.59892133965905e-05\n",
            "58 60 3  -> 1\n",
            "\n",
            "probability for y = 1 -> 0.00021175024633781806\n",
            "probability for y = 0 -> 0.00011745111797483857\n",
            "49 63 3  -> 1\n",
            "\n",
            "probability for y = 1 -> 0.00010668196392365889\n",
            "probability for y = 0 -> 5.119908450225542e-05\n",
            "45 60 0  -> 1\n",
            "\n",
            "probability for y = 1 -> 6.387932395668814e-05\n",
            "probability for y = 0 -> 4.068340781519206e-05\n",
            "54 58 1  -> 1\n",
            "\n",
            "probability for y = 1 -> 0.00013015787337867794\n",
            "probability for y = 0 -> 7.96477760038536e-05\n",
            "56 66 3  -> 1\n",
            "\n",
            "probability for y = 1 -> 2.3732606847822938e-05\n",
            "probability for y = 0 -> 9.606952640595343e-06\n",
            "42 69 1  -> 1\n",
            "\n",
            "probability for y = 1 -> 0.00010182474623897362\n",
            "probability for y = 0 -> 6.018422917678821e-05\n",
            "50 59 2  -> 1\n",
            "\n",
            "probability for y = 1 -> 0.00010590778028007196\n",
            "probability for y = 0 -> 6.644012183738298e-05\n",
            "59 60 0  -> 1\n",
            "\n"
          ]
        }
      ]
    }
  ]
}